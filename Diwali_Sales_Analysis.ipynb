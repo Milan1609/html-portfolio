{
  "nbformat": 4,
  "nbformat_minor": 0,
  "metadata": {
    "colab": {
      "provenance": [],
      "authorship_tag": "ABX9TyMZA/LIc2uzzOKRfY0AXAuM",
      "include_colab_link": true
    },
    "kernelspec": {
      "name": "python3",
      "display_name": "Python 3"
    },
    "language_info": {
      "name": "python"
    }
  },
  "cells": [
    {
      "cell_type": "markdown",
      "metadata": {
        "id": "view-in-github",
        "colab_type": "text"
      },
      "source": [
        "<a href=\"https://colab.research.google.com/github/Milan1609/html-portfolio/blob/main/Diwali_Sales_Analysis.ipynb\" target=\"_parent\"><img src=\"https://colab.research.google.com/assets/colab-badge.svg\" alt=\"Open In Colab\"/></a>"
      ]
    },
    {
      "cell_type": "code",
      "source": [
        "!pip install pandas\n",
        "!pip install numpy\n",
        "!pip install matplotlib\n",
        "!pip intall seaborn"
      ],
      "metadata": {
        "id": "9dpZodOL7DHz"
      },
      "execution_count": null,
      "outputs": []
    },
    {
      "cell_type": "code",
      "source": [
        "import pandas as pd   #Python library used for working with data sets.\n",
        "#It has functions for analyzing, cleaning, exploring, and manipulating data\n",
        "\n",
        "import numpy as np # Python library used for working with arrays.\n",
        "# It also has functions for working in domain of linear algebra, fourier transform, and matrices.\n",
        "\n",
        "import matplotlib.pyplot as plt  # visualizing the data\n",
        "#a comprehensive library for creating static, animated, and interactive visualizations in Python.\n",
        "\n",
        "%matplotlib inline\n",
        "\n",
        "import seaborn as sns  #a library that uses Matplotlib underneath to plot graphs."
      ],
      "metadata": {
        "id": "m1cxpFE1280U"
      },
      "execution_count": 2,
      "outputs": []
    },
    {
      "cell_type": "code",
      "execution_count": 4,
      "metadata": {
        "id": "L7tOwyZKxoR2"
      },
      "outputs": [],
      "source": [
        "df = pd.read_csv(\"Diwali Sales Data.csv\" , encoding='unicode_escape') #df =data frame\n",
        "# to avoid encoding error , \"unicode_esccape\"\n",
        "#a dummy encoding that converts all non-ASCII characters into their \\uXXXX representation."
      ]
    },
    {
      "cell_type": "code",
      "source": [
        "df.shape"
      ],
      "metadata": {
        "id": "t4EcxKtI9rZS"
      },
      "execution_count": null,
      "outputs": []
    },
    {
      "cell_type": "code",
      "source": [
        "df.head() # if i want to add more rows than fill the brecket with numbers . ex:- df.head(10)"
      ],
      "metadata": {
        "id": "e8LWkgi0-4gu"
      },
      "execution_count": null,
      "outputs": []
    },
    {
      "cell_type": "code",
      "source": [
        "df.info()  # give the information about .csv file."
      ],
      "metadata": {
        "id": "o1pYUq53-8TC"
      },
      "execution_count": null,
      "outputs": []
    },
    {
      "cell_type": "code",
      "source": [
        "df.drop(['Status','unnamed1'],axis=1,inplace=True)\n",
        "# this will droped all unrelated /blanked columns.\n",
        "# inplace = True ---->>  it will save /delet for forever."
      ],
      "metadata": {
        "id": "HhvcfKey_Y4c"
      },
      "execution_count": 8,
      "outputs": []
    },
    {
      "cell_type": "code",
      "source": [
        "df.info()"
      ],
      "metadata": {
        "id": "AUSckoumAcWg"
      },
      "execution_count": null,
      "outputs": []
    },
    {
      "cell_type": "code",
      "source": [
        "pd.isnull(df)\n",
        "# false = no null value\n",
        "# true = null value is there"
      ],
      "metadata": {
        "id": "v7ZDpmEYAnkK"
      },
      "execution_count": null,
      "outputs": []
    },
    {
      "cell_type": "code",
      "source": [
        "pd.isnull(df).sum()  # give the data about \"how many null values are in each columes.\"."
      ],
      "metadata": {
        "id": "gt4XUSkjBLqW"
      },
      "execution_count": null,
      "outputs": []
    },
    {
      "cell_type": "code",
      "source": [
        "df.dropna(inplace =True) # delet the null items from the rows in the given CSV file."
      ],
      "metadata": {
        "id": "pSNVeyGlByQQ"
      },
      "execution_count": 12,
      "outputs": []
    },
    {
      "cell_type": "code",
      "source": [
        "pd.isnull(df).sum() #check Amount Before and After."
      ],
      "metadata": {
        "id": "2gbGrfFeDo_q"
      },
      "execution_count": null,
      "outputs": []
    },
    {
      "cell_type": "code",
      "source": [
        "# Change the Data Type\n",
        "df['Amount'] = df['Amount'].astype('int')"
      ],
      "metadata": {
        "id": "9rt-CY1DD7MN"
      },
      "execution_count": 14,
      "outputs": []
    },
    {
      "cell_type": "code",
      "source": [
        "df['Amount'].dtype  # show the data type"
      ],
      "metadata": {
        "id": "zJ3LlNRYIuI8"
      },
      "execution_count": null,
      "outputs": []
    },
    {
      "cell_type": "code",
      "source": [
        "df.columns"
      ],
      "metadata": {
        "id": "z3CF2U4yI-mC",
        "colab": {
          "base_uri": "https://localhost:8080/"
        },
        "outputId": "15bb4277-eb83-4cd7-823d-349af6ce7c58"
      },
      "execution_count": 30,
      "outputs": [
        {
          "output_type": "execute_result",
          "data": {
            "text/plain": [
              "Index(['User_ID', 'Cust_name', 'Product_ID', 'Gender', 'Age Group', 'Age',\n",
              "       'Marital_Status', 'State', 'Zone', 'Occupation', 'Product_Category',\n",
              "       'Orders', 'Amount'],\n",
              "      dtype='object')"
            ]
          },
          "metadata": {},
          "execution_count": 30
        }
      ]
    },
    {
      "cell_type": "code",
      "source": [
        "# rename the column\n",
        "df.rename(columns={'Gender':'Sex'})"
      ],
      "metadata": {
        "id": "TEKFLTj0J4n9"
      },
      "execution_count": null,
      "outputs": []
    },
    {
      "cell_type": "code",
      "source": [
        "df.describe"
      ],
      "metadata": {
        "id": "kBt8g5-6KTjv"
      },
      "execution_count": null,
      "outputs": []
    },
    {
      "cell_type": "code",
      "source": [
        "df.describe()  # it shows the Count, Mean ,Stand devition , Min , Max, etc....  ,"
      ],
      "metadata": {
        "id": "RAZ0F8D9Kdcg"
      },
      "execution_count": null,
      "outputs": []
    },
    {
      "cell_type": "code",
      "source": [
        "#use describe() for specific data .\n",
        "df[['Age' , 'Amount']].describe()"
      ],
      "metadata": {
        "id": "bEsDnr92Kk3K"
      },
      "execution_count": null,
      "outputs": []
    },
    {
      "cell_type": "markdown",
      "source": [
        "##  ---->>>>>   Exploratory Data Analysis  (EDA)    <<<<<--------"
      ],
      "metadata": {
        "id": "HiMQJRj2L6o_"
      }
    },
    {
      "cell_type": "markdown",
      "source": [
        "### Gender"
      ],
      "metadata": {
        "id": "RXBFXydSKtUG"
      }
    },
    {
      "cell_type": "code",
      "source": [
        "sns.countplot(x='Gender' , data = df)"
      ],
      "metadata": {
        "id": "j51a1PjwL2Y7"
      },
      "execution_count": null,
      "outputs": []
    },
    {
      "cell_type": "code",
      "source": [
        "ax = sns.countplot(x = 'Gender', data = df)\n",
        "\n",
        "for bars in ax.containers : ax.bar_label(bars)"
      ],
      "metadata": {
        "id": "u7jdfMIHLB4T"
      },
      "execution_count": null,
      "outputs": []
    },
    {
      "cell_type": "code",
      "source": [
        "df.groupby(['Gender'],as_index=False).sum().sort_values(by='Amount', ascending=False)"
      ],
      "metadata": {
        "id": "_mpyzWRm6J7Z"
      },
      "execution_count": null,
      "outputs": []
    },
    {
      "cell_type": "code",
      "source": [
        "df.groupby(['Gender'],as_index=False)['Amount'].sum().sort_values(by='Amount', ascending=False)"
      ],
      "metadata": {
        "id": "l-4R59lu7dXt"
      },
      "execution_count": null,
      "outputs": []
    },
    {
      "cell_type": "code",
      "source": [
        "sales_gen = df.groupby(['Gender'],as_index=False)['Amount'].sum().sort_values(by='Amount', ascending=False)\n",
        "\n",
        "sns.barplot(x = 'Gender' ,  y = 'Amount' , data = sales_gen )"
      ],
      "metadata": {
        "id": "_acp1cbk77q_"
      },
      "execution_count": null,
      "outputs": []
    },
    {
      "cell_type": "markdown",
      "source": [
        "From above  graphs we can see that most of the buyers are \"Females\" and even the purchasing power of females are greatr than males."
      ],
      "metadata": {
        "id": "XgcMb9TgMRj1"
      }
    },
    {
      "cell_type": "markdown",
      "source": [
        "### Age"
      ],
      "metadata": {
        "id": "A4Gd198-9b_o"
      }
    },
    {
      "cell_type": "code",
      "source": [
        "sns.countplot(x= 'Age Group', data =df)   #-------->>>>>>     1"
      ],
      "metadata": {
        "id": "WpeeXJaeMFEt"
      },
      "execution_count": null,
      "outputs": []
    },
    {
      "cell_type": "markdown",
      "source": [
        "we can see that \" hue='' \" how it makes diffrent fromm #1 &#2  "
      ],
      "metadata": {
        "id": "REFkuD2S-1Jx"
      }
    },
    {
      "cell_type": "code",
      "source": [
        "sns.countplot(data= df , x = 'Age Group' , hue = 'Gender')   #-------->>>>>>     2"
      ],
      "metadata": {
        "id": "y_36-gAQ-D2d"
      },
      "execution_count": null,
      "outputs": []
    },
    {
      "cell_type": "code",
      "source": [
        "ax = sns.countplot(data= df , x = 'Age Group' , hue = 'Gender')\n",
        "\n",
        "for bars in ax.containers : ax.bar_label(bars)"
      ],
      "metadata": {
        "id": "M6r1dGVyB7kI"
      },
      "execution_count": null,
      "outputs": []
    },
    {
      "cell_type": "code",
      "source": [
        "df.groupby(['Age Group'], as_index = False)['Amount'].sum().sort_values(by = 'Amount', ascending = False)"
      ],
      "metadata": {
        "id": "eJL9JWPf-m3T"
      },
      "execution_count": null,
      "outputs": []
    },
    {
      "cell_type": "code",
      "source": [
        "sales_age = df.groupby(['Age Group'], as_index = False)['Amount'].sum().sort_values(by = 'Amount', ascending = False)\n",
        "\n",
        "sns.barplot(data = sales_age , x= 'Age Group' ,y= 'Amount',)"
      ],
      "metadata": {
        "id": "7ADl4yqa_xFH"
      },
      "execution_count": null,
      "outputs": []
    },
    {
      "cell_type": "markdown",
      "source": [
        "Feom above graphs we can tell that most of the buyers are of age group between 26-35 yrs females .\n",
        ""
      ],
      "metadata": {
        "id": "6uovlrR3CkJK"
      }
    },
    {
      "cell_type": "markdown",
      "source": [
        "### State"
      ],
      "metadata": {
        "id": "J1OrpJiBDULY"
      }
    },
    {
      "cell_type": "code",
      "source": [
        "sns.countplot(data = df , x='State' )"
      ],
      "metadata": {
        "id": "9iuHNm9WAY0I"
      },
      "execution_count": null,
      "outputs": []
    },
    {
      "cell_type": "code",
      "source": [
        "ax = sns.countplot(data = df , x='State' )\n",
        "\n",
        "for bars in ax.containers : ax.bar_label(bars)"
      ],
      "metadata": {
        "id": "yBSHVNd7EhPL"
      },
      "execution_count": null,
      "outputs": []
    },
    {
      "cell_type": "markdown",
      "source": [
        "State  VS  Amount   "
      ],
      "metadata": {
        "id": "9dPZbR5lG99h"
      }
    },
    {
      "cell_type": "code",
      "source": [
        "df.groupby(['State'], as_index = False)['Amount'].sum().sort_values(by = 'Amount', ascending = False)"
      ],
      "metadata": {
        "id": "BGJrX6XpFO8a"
      },
      "execution_count": null,
      "outputs": []
    },
    {
      "cell_type": "code",
      "source": [
        "df.groupby(['State'], as_index = False)['Amount'].sum().sort_values(by = 'Amount', ascending = False).head(10)"
      ],
      "metadata": {
        "id": "w8RB03NRFwRU"
      },
      "execution_count": null,
      "outputs": []
    },
    {
      "cell_type": "code",
      "source": [
        "sales_state =df.groupby(['State'], as_index = False)['Amount'].sum().sort_values(by = 'Amount', ascending = False).head(10)\n",
        "\n",
        "sns.barplot(data = sales_state , x='State',y='Amount')"
      ],
      "metadata": {
        "id": "ruSu33JGF125"
      },
      "execution_count": null,
      "outputs": []
    },
    {
      "cell_type": "code",
      "source": [
        "sales_state =df.groupby(['State'], as_index = False)['Amount'].sum().sort_values(by = 'Amount', ascending = False).head(10)\n",
        "\n",
        "sns.set(rc={'figure.figsize': (15, 5)})\n",
        "sns.barplot(data = sales_state , x='State',y='Amount')"
      ],
      "metadata": {
        "id": "gatOHCuoGQs_"
      },
      "execution_count": null,
      "outputs": []
    },
    {
      "cell_type": "markdown",
      "source": [
        "State    VS    Orders"
      ],
      "metadata": {
        "id": "FB6aYBwWHHyr"
      }
    },
    {
      "cell_type": "code",
      "source": [
        "df.groupby(['State'], as_index = False)['Orders'].sum().sort_values(by = 'Orders', ascending = False)"
      ],
      "metadata": {
        "id": "P-GI4asNGfUl"
      },
      "execution_count": null,
      "outputs": []
    },
    {
      "cell_type": "code",
      "source": [
        "df.groupby(['State'], as_index = False)['Orders'].sum().sort_values(by = 'Orders', ascending = False).head(10)"
      ],
      "metadata": {
        "id": "sftqofvLHdEA"
      },
      "execution_count": null,
      "outputs": []
    },
    {
      "cell_type": "code",
      "source": [
        "sales_state =df.groupby(['State'], as_index = False)['Orders'].sum().sort_values(by = 'Orders', ascending = False).head(10)\n",
        "\n",
        "sns.set(rc={'figure.figsize': (17, 5)})\n",
        "sns.barplot(data = sales_state , x='State',y='Orders')"
      ],
      "metadata": {
        "id": "ooyoUZfQHsyA"
      },
      "execution_count": null,
      "outputs": []
    },
    {
      "cell_type": "markdown",
      "source": [
        "Feom the above graph we can see that the most of the orders  and total number of sales/amount are from UP  ,Maharasta and Karnataka respectively."
      ],
      "metadata": {
        "id": "bU61wXqxIVhL"
      }
    },
    {
      "cell_type": "markdown",
      "source": [
        "### Martial Status"
      ],
      "metadata": {
        "id": "GhFyhBxNJ_Eo"
      }
    },
    {
      "cell_type": "code",
      "source": [
        "df.columns"
      ],
      "metadata": {
        "colab": {
          "base_uri": "https://localhost:8080/"
        },
        "id": "j5jkJWItJ-m4",
        "outputId": "9ac36ed9-5e6a-4782-dc70-61a8efefb716"
      },
      "execution_count": 80,
      "outputs": [
        {
          "output_type": "execute_result",
          "data": {
            "text/plain": [
              "Index(['User_ID', 'Cust_name', 'Product_ID', 'Gender', 'Age Group', 'Age',\n",
              "       'Marital_Status', 'State', 'Zone', 'Occupation', 'Product_Category',\n",
              "       'Orders', 'Amount'],\n",
              "      dtype='object')"
            ]
          },
          "metadata": {},
          "execution_count": 80
        }
      ]
    },
    {
      "cell_type": "code",
      "source": [
        "ax = sns.countplot(data = df , x='Marital_Status' )\n",
        "\n",
        "sns.set(rc={'figure.figsize': (7, 5)})\n",
        "for bars in ax.containers : ax.bar_label(bars)"
      ],
      "metadata": {
        "id": "g1vXMOToOObl"
      },
      "execution_count": null,
      "outputs": []
    },
    {
      "cell_type": "code",
      "source": [
        "sales_married =df.groupby(['Marital_Status' , 'Gender'], as_index = False)['Amount'].sum().sort_values(by = 'Amount', ascending = False).head(10)\n",
        "\n",
        "sns.set(rc={'figure.figsize': (7, 5)})\n",
        "sns.barplot(data = sales_married , x='Marital_Status',y='Amount' , hue = 'Gender')"
      ],
      "metadata": {
        "id": "r8odg34aJ7qh"
      },
      "execution_count": null,
      "outputs": []
    },
    {
      "cell_type": "markdown",
      "source": [
        "From the above graphs we can see that most of the buyers are married in speially women and they have highest purchasing power ."
      ],
      "metadata": {
        "id": "vVZDOXkSMrRR"
      }
    },
    {
      "cell_type": "markdown",
      "source": [
        "### Occupation"
      ],
      "metadata": {
        "id": "o05wJIgIO8zf"
      }
    },
    {
      "cell_type": "code",
      "source": [
        "sns.countplot(data = df , x='Occupation' )"
      ],
      "metadata": {
        "id": "XVM8ifKsPK18"
      },
      "execution_count": null,
      "outputs": []
    },
    {
      "cell_type": "code",
      "source": [
        "ax = sns.countplot(data = df , x='Occupation' )\n",
        "\n",
        "sns.set(rc={'figure.figsize': (27, 5)})\n",
        "for bars in ax.containers : ax.bar_label(bars)"
      ],
      "metadata": {
        "id": "JcYkUT8OPHLs"
      },
      "execution_count": null,
      "outputs": []
    },
    {
      "cell_type": "code",
      "source": [
        "sales_occupation =df.groupby(['Occupation' , 'Gender'], as_index = False)['Amount'].sum().sort_values(by = 'Amount', ascending = False)\n",
        "\n",
        "sns.set(rc={'figure.figsize': (17, 5)})\n",
        "sns.barplot(data = sales_occupation , x='Occupation',y='Amount' , hue = 'Gender')"
      ],
      "metadata": {
        "id": "zeYBhyPRPXbn"
      },
      "execution_count": null,
      "outputs": []
    },
    {
      "cell_type": "markdown",
      "source": [
        "From the above graph we can see that the most of the buyers are working in IT , Aviation And Healthcare Sector ."
      ],
      "metadata": {
        "id": "2E1Z6a6qQRBy"
      }
    },
    {
      "cell_type": "markdown",
      "source": [
        "### Products Catecory"
      ],
      "metadata": {
        "id": "zXnLEkYpQuR9"
      }
    },
    {
      "cell_type": "code",
      "source": [
        "df.columns"
      ],
      "metadata": {
        "colab": {
          "base_uri": "https://localhost:8080/"
        },
        "id": "bXAiWN3rQ6Tt",
        "outputId": "497cc431-8843-476c-cab9-371e5990a20f"
      },
      "execution_count": 91,
      "outputs": [
        {
          "output_type": "execute_result",
          "data": {
            "text/plain": [
              "Index(['User_ID', 'Cust_name', 'Product_ID', 'Gender', 'Age Group', 'Age',\n",
              "       'Marital_Status', 'State', 'Zone', 'Occupation', 'Product_Category',\n",
              "       'Orders', 'Amount'],\n",
              "      dtype='object')"
            ]
          },
          "metadata": {},
          "execution_count": 91
        }
      ]
    },
    {
      "cell_type": "code",
      "source": [
        "sns.countplot(data = df , x='Product_Category' )"
      ],
      "metadata": {
        "colab": {
          "base_uri": "https://localhost:8080/",
          "height": 436
        },
        "id": "bJnoj61zQ4k0",
        "outputId": "913687f6-b327-4719-8978-c6edad8ab326"
      },
      "execution_count": 92,
      "outputs": [
        {
          "output_type": "execute_result",
          "data": {
            "text/plain": [
              "<Axes: xlabel='Product_Category', ylabel='count'>"
            ]
          },
          "metadata": {},
          "execution_count": 92
        },
        {
          "output_type": "display_data",
          "data": {
            "text/plain": [
              "<Figure size 1700x500 with 1 Axes>"
            ],
            "image/png": "[encoded data removed]"
          },
          "metadata": {}
        }
      ]
    },
    {
      "cell_type": "code",
      "source": [
        "ax = sns.countplot(data = df , x='Product_Category' )\n",
        "\n",
        "sns.set(rc={'figure.figsize': (27, 5)})\n",
        "for bars in ax.containers : ax.bar_label(bars)"
      ],
      "metadata": {
        "id": "tc8hynX3PwHH"
      },
      "execution_count": null,
      "outputs": []
    },
    {
      "cell_type": "code",
      "source": [
        "df.groupby(['Product_Category' , 'Gender'], as_index = False)['Amount'].sum().sort_values(by = 'Amount', ascending = False).head(10)\n"
      ],
      "metadata": {
        "id": "zSgyPm2_R-nA"
      },
      "execution_count": null,
      "outputs": []
    },
    {
      "cell_type": "code",
      "source": [
        "sales_product =df.groupby(['Product_Category' , 'Gender'], as_index = False)['Amount'].sum().sort_values(by = 'Amount', ascending = False).head(10)\n",
        "\n",
        "sns.set(rc={'figure.figsize': (25, 5)})\n",
        "sns.barplot(data = sales_product , x='Product_Category',y='Amount' , hue = 'Gender')"
      ],
      "metadata": {
        "id": "nmzyKyHmRHPu"
      },
      "execution_count": null,
      "outputs": []
    },
    {
      "cell_type": "markdown",
      "source": [
        "From the above graphs we can see that most of the sold products are Food , Footwear and Electonics Categories ."
      ],
      "metadata": {
        "id": "fPsbb9pcSMQu"
      }
    },
    {
      "cell_type": "markdown",
      "source": [
        "### Product ID"
      ],
      "metadata": {
        "id": "ci9gKGpxTAsm"
      }
    },
    {
      "cell_type": "code",
      "source": [
        "df.columns"
      ],
      "metadata": {
        "id": "FfYWbWG6Tm09"
      },
      "execution_count": null,
      "outputs": []
    },
    {
      "cell_type": "code",
      "source": [
        "df.groupby(['Product_ID'], as_index = False)['Orders'].sum().sort_values(by = 'Orders', ascending = False)"
      ],
      "metadata": {
        "id": "VhVdQv3_UwEp"
      },
      "execution_count": null,
      "outputs": []
    },
    {
      "cell_type": "markdown",
      "source": [
        "first way"
      ],
      "metadata": {
        "id": "q9EiTRuFVpc3"
      }
    },
    {
      "cell_type": "code",
      "source": [
        "sales_p_id =df.groupby(['Product_ID'], as_index = False)['Orders'].sum().sort_values(by = 'Orders', ascending = False).head(10)\n",
        "\n",
        "sns.set(rc={'figure.figsize': (20, 5)})\n",
        "sns.barplot(data = sales_p_id , x='Product_ID',y='Orders' )"
      ],
      "metadata": {
        "id": "ieuwjkZRRbfz"
      },
      "execution_count": null,
      "outputs": []
    },
    {
      "cell_type": "markdown",
      "source": [
        "second way"
      ],
      "metadata": {
        "id": "2LxYzX_XVjaD"
      }
    },
    {
      "cell_type": "code",
      "source": [
        "fig1, ax1 = plt.subplots(figsize=(12,7))\n",
        "\n",
        "df.groupby('Product_ID')['Orders'].sum().nlargest(10).sort_values(ascending = False).plot(kind = 'line')\n",
        "\n",
        "#  kind = line / bar / graph ....."
      ],
      "metadata": {
        "id": "xnmKZZ-3T7bx"
      },
      "execution_count": null,
      "outputs": []
    },
    {
      "cell_type": "markdown",
      "source": [
        "# Conclusion: -"
      ],
      "metadata": {
        "id": "L_3jM9H9XPUs"
      }
    },
    {
      "cell_type": "markdown",
      "source": [
        "Married women  - who have age grop 26 to 35 years - from UP , Maharashtra and Karnataka and working in IT, Healthcare , Avition Sectors are more likely to buy products from Food , Clothings and Electronics items ."
      ],
      "metadata": {
        "id": "WjErr8fWXacR"
      }
    }
  ]
}