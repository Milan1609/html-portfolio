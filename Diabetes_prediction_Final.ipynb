{
  "cells": [
    {
      "cell_type": "markdown",
      "metadata": {
        "id": "view-in-github",
        "colab_type": "text"
      },
      "source": [
        "<a href=\"https://colab.research.google.com/github/Milan1609/html-portfolio/blob/main/Diabetes_prediction_Final.ipynb\" target=\"_parent\"><img src=\"https://colab.research.google.com/assets/colab-badge.svg\" alt=\"Open In Colab\"/></a>"
      ]
    },
    {
      "cell_type": "markdown",
      "id": "MIgNdEnmQu75",
      "metadata": {
        "id": "MIgNdEnmQu75"
      },
      "source": [
        "# Importing necessary Libraries"
      ]
    },
    {
      "cell_type": "code",
      "execution_count": 2,
      "id": "328df5bb",
      "metadata": {
        "id": "328df5bb"
      },
      "outputs": [],
      "source": [
        "import pandas as pd #Data preprocessing\n",
        "import numpy as np #for stastical operations\n",
        "\n",
        "#For plotting charts\n",
        "import matplotlib.pyplot as plt\n",
        "import seaborn as sns"
      ]
    },
    {
      "cell_type": "code",
      "source": [
        "from google.colab import files\n",
        "uploaded = files.upload()"
      ],
      "metadata": {
        "id": "cpbNJ0Wck1WX"
      },
      "id": "cpbNJ0Wck1WX",
      "execution_count": null,
      "outputs": []
    },
    {
      "cell_type": "markdown",
      "id": "273b1738",
      "metadata": {
        "id": "273b1738"
      },
      "source": [
        "# Read the dataframe in CSV format"
      ]
    },
    {
      "cell_type": "code",
      "execution_count": null,
      "id": "698d3de2",
      "metadata": {
        "id": "698d3de2"
      },
      "outputs": [],
      "source": [
        "dataFrame = pd.read_csv(\"diabetes.csv\")\n",
        "dataFrame.head()\n",
        "dataFrame"
      ]
    },
    {
      "cell_type": "markdown",
      "id": "042fc7c7",
      "metadata": {
        "id": "042fc7c7"
      },
      "source": [
        "# shape of dataframe"
      ]
    },
    {
      "cell_type": "code",
      "execution_count": null,
      "id": "1a0211d8",
      "metadata": {
        "id": "1a0211d8"
      },
      "outputs": [],
      "source": [
        "dataFrame.shape"
      ]
    },
    {
      "cell_type": "code",
      "execution_count": null,
      "id": "2M0sBCGAKNU2",
      "metadata": {
        "id": "2M0sBCGAKNU2"
      },
      "outputs": [],
      "source": [
        "dataFrame.describe()"
      ]
    },
    {
      "cell_type": "code",
      "execution_count": null,
      "id": "CE1OGKYkK20f",
      "metadata": {
        "id": "CE1OGKYkK20f"
      },
      "outputs": [],
      "source": [
        "#Here we are finding the uniques values of pragnancies\n",
        "pd.unique(dataFrame[\"Pregnancies\"])"
      ]
    },
    {
      "cell_type": "markdown",
      "id": "XJERoF0XRS6g",
      "metadata": {
        "id": "XJERoF0XRS6g"
      },
      "source": [
        "# Outcome\n",
        "from the above code we can find that the maximum pragnancy is 17 but it is not possible and also there are many number which are not possible that many number of pragnancies so we are just reducing our data with maximum 4 pragnancies"
      ]
    },
    {
      "cell_type": "code",
      "execution_count": null,
      "id": "0l4o7ef8MUWM",
      "metadata": {
        "id": "0l4o7ef8MUWM"
      },
      "outputs": [],
      "source": [
        "df = dataFrame[dataFrame['Pregnancies'] <= 4]\n",
        "df.head()"
      ]
    },
    {
      "cell_type": "code",
      "execution_count": null,
      "id": "iNmfGEDQOtGj",
      "metadata": {
        "id": "iNmfGEDQOtGj"
      },
      "outputs": [],
      "source": [
        "df.shape"
      ]
    },
    {
      "cell_type": "markdown",
      "id": "fHzNBa3hR5zx",
      "metadata": {
        "id": "fHzNBa3hR5zx"
      },
      "source": [
        "Now we can see that the dataset is reduced but it is accurate than before"
      ]
    },
    {
      "cell_type": "markdown",
      "id": "e22ce0a0",
      "metadata": {
        "id": "e22ce0a0"
      },
      "source": [
        "###### Outcome\n",
        "We have total 492 Rows and 9 columns"
      ]
    },
    {
      "cell_type": "code",
      "execution_count": 10,
      "id": "31b92a52",
      "metadata": {
        "colab": {
          "base_uri": "https://localhost:8080/"
        },
        "id": "31b92a52",
        "outputId": "4538119c-3297-4f5e-da3b-d6e56cc019c2"
      },
      "outputs": [
        {
          "output_type": "execute_result",
          "data": {
            "text/plain": [
              "Pregnancies                 0\n",
              "Glucose                     0\n",
              "BloodPressure               0\n",
              "SkinThickness               0\n",
              "Insulin                     0\n",
              "BMI                         0\n",
              "DiabetesPedigreeFunction    0\n",
              "Age                         0\n",
              "Outcome                     0\n",
              "dtype: int64"
            ]
          },
          "metadata": {},
          "execution_count": 10
        }
      ],
      "source": [
        "#checking the null values\n",
        "df.isnull().sum()"
      ]
    },
    {
      "cell_type": "markdown",
      "id": "6124f495",
      "metadata": {
        "id": "6124f495"
      },
      "source": [
        "###### Outcome\n",
        "There is no column which has null values so our database has no null values"
      ]
    },
    {
      "cell_type": "code",
      "execution_count": null,
      "id": "4QcyoHmOXxbO",
      "metadata": {
        "id": "4QcyoHmOXxbO"
      },
      "outputs": [],
      "source": [
        "df.info()"
      ]
    },
    {
      "cell_type": "markdown",
      "id": "2ee106dd",
      "metadata": {
        "id": "2ee106dd"
      },
      "source": [
        "###### Outcome\n",
        "There is not a single column which has object as a datatype </br>\n",
        "If there is any columns with object datatype the we will convert it to the int32 or int64 using one-hot-encoding"
      ]
    },
    {
      "cell_type": "code",
      "execution_count": null,
      "id": "093634df",
      "metadata": {
        "id": "093634df"
      },
      "outputs": [],
      "source": [
        "#checking the columns\n",
        "df.columns"
      ]
    },
    {
      "cell_type": "code",
      "execution_count": null,
      "id": "7112d825",
      "metadata": {
        "id": "7112d825"
      },
      "outputs": [],
      "source": [
        "df.describe()"
      ]
    },
    {
      "cell_type": "markdown",
      "id": "b15bfbfc",
      "metadata": {
        "id": "b15bfbfc"
      },
      "source": [
        "## Outcome\n",
        "Here, we have <b>'Outcome'</b> columns which we have to predict whether the patient have diabetes or not"
      ]
    },
    {
      "cell_type": "code",
      "execution_count": null,
      "id": "15551252",
      "metadata": {
        "id": "15551252"
      },
      "outputs": [],
      "source": [
        "#Remove the dependent variable from the dataset\n",
        "x = df.drop(columns=[\"Outcome\"])\n",
        "x.head()"
      ]
    },
    {
      "cell_type": "markdown",
      "id": "gTo7Nc6-SdeL",
      "metadata": {
        "id": "gTo7Nc6-SdeL"
      },
      "source": [
        "We can try both the thing <br>\n",
        "we can use feature scalling to the whole dataet or after splliting it into training and testing<br>\n",
        "We will do it after splliting it into training and testing"
      ]
    },
    {
      "cell_type": "code",
      "execution_count": null,
      "id": "9694bbd3",
      "metadata": {
        "id": "9694bbd3"
      },
      "outputs": [],
      "source": [
        "#assigning the dependent variable to the y\n",
        "y = df[\"Outcome\"]\n",
        "y.head()"
      ]
    },
    {
      "cell_type": "code",
      "execution_count": null,
      "id": "b8b4d8b4",
      "metadata": {
        "id": "b8b4d8b4"
      },
      "outputs": [],
      "source": [
        "df['Outcome'].value_counts()"
      ]
    },
    {
      "cell_type": "markdown",
      "id": "06908589",
      "metadata": {
        "id": "06908589"
      },
      "source": [
        "## Outcome\n",
        "1) We have 356 numbers of zero that means that number of persons don't have diabetes </br>\n",
        "2) We have 136 number of ones that means that number of persons have diabetes"
      ]
    },
    {
      "cell_type": "markdown",
      "id": "6253014b",
      "metadata": {
        "id": "6253014b"
      },
      "source": [
        "# Train and test dataset splitting"
      ]
    },
    {
      "cell_type": "code",
      "execution_count": 17,
      "id": "86e4538d",
      "metadata": {
        "id": "86e4538d"
      },
      "outputs": [],
      "source": [
        "from sklearn.model_selection import train_test_split\n",
        "x_train, x_test, y_train, y_test = train_test_split(x,y, test_size=0.2)"
      ]
    },
    {
      "cell_type": "code",
      "execution_count": 18,
      "id": "6a3f7672",
      "metadata": {
        "id": "6a3f7672"
      },
      "outputs": [],
      "source": [
        "#Feature scaling\n",
        "#We need feature scalling to scale all the values to the one scale like in between '0 to 1'\n",
        "#by doing this we increase the speed of the machine learning model\n",
        "from sklearn.preprocessing import StandardScaler\n",
        "scaler_values = StandardScaler()\n",
        "x_train = scaler_values.fit_transform(x_train)\n",
        "x_test = scaler_values.fit_transform(x_test)"
      ]
    },
    {
      "cell_type": "markdown",
      "id": "40a1c698",
      "metadata": {
        "id": "40a1c698"
      },
      "source": [
        "# Predicting Using SVM"
      ]
    },
    {
      "cell_type": "markdown",
      "id": "bNOr7iSuPYJG",
      "metadata": {
        "id": "bNOr7iSuPYJG"
      },
      "source": [
        "# SVM POLY"
      ]
    },
    {
      "cell_type": "code",
      "execution_count": null,
      "id": "zcrRM7LlPdmP",
      "metadata": {
        "id": "zcrRM7LlPdmP"
      },
      "outputs": [],
      "source": [
        "#Classifying using Support Vector Machine (Support Vector Classification)\n",
        "from sklearn.svm import SVC\n",
        "svc_poly_model = SVC(kernel=\"poly\")\n",
        "svc_poly_model.fit(x_train, y_train)"
      ]
    },
    {
      "cell_type": "code",
      "execution_count": null,
      "id": "LDofwARLPz_9",
      "metadata": {
        "id": "LDofwARLPz_9"
      },
      "outputs": [],
      "source": [
        "#predicting the test set values\n",
        "y_predicted_with_poly = svc_poly_model.predict(x_test)\n",
        "y_predicted_with_poly"
      ]
    },
    {
      "cell_type": "code",
      "execution_count": null,
      "id": "ULQM-WMmP_EN",
      "metadata": {
        "id": "ULQM-WMmP_EN"
      },
      "outputs": [],
      "source": [
        "#Making confusion matrix\n",
        "from sklearn.metrics import confusion_matrix\n",
        "cm = confusion_matrix(y_test, y_predicted_with_poly)\n",
        "cm"
      ]
    },
    {
      "cell_type": "code",
      "execution_count": null,
      "id": "GfpAp031P4D-",
      "metadata": {
        "id": "GfpAp031P4D-"
      },
      "outputs": [],
      "source": [
        "# plot heat map\n",
        "sns.heatmap(cm, annot=True, cmap=\"Blues\")\n",
        "plt.show()"
      ]
    },
    {
      "cell_type": "code",
      "execution_count": null,
      "id": "DEnuL-sfQT8q",
      "metadata": {
        "id": "DEnuL-sfQT8q"
      },
      "outputs": [],
      "source": [
        "from sklearn.metrics import accuracy_score\n",
        "test_acc_poly = accuracy_score(y_test, y_predicted_with_poly)*100\n",
        "print(f\"Test accuracy score: {test_acc_poly}\")\n"
      ]
    },
    {
      "cell_type": "markdown",
      "id": "D40sX0bSnbFz",
      "metadata": {
        "id": "D40sX0bSnbFz"
      },
      "source": [
        "# KNN Classifier\n"
      ]
    },
    {
      "cell_type": "code",
      "execution_count": null,
      "id": "keKGabRmnLDa",
      "metadata": {
        "id": "keKGabRmnLDa"
      },
      "outputs": [],
      "source": [
        "#importing library to use KNN Classifier\n",
        "from sklearn.neighbors import KNeighborsClassifier"
      ]
    },
    {
      "cell_type": "code",
      "execution_count": null,
      "id": "EETm1vwzn6Qm",
      "metadata": {
        "id": "EETm1vwzn6Qm"
      },
      "outputs": [],
      "source": [
        "#Here in default values n_neighbors=5,\n",
        "#weights='uniform', algorithm='auto', leaf_size=30\n",
        "#p=2, metric='minkowski', metric_params=None, n_jobs=None\n",
        "\n",
        "KnnSampleModel = KNeighborsClassifier()\n",
        "KnnSampleModel.fit(x_train, y_train)"
      ]
    },
    {
      "cell_type": "code",
      "execution_count": null,
      "id": "WOoOoKGKoOT1",
      "metadata": {
        "id": "WOoOoKGKoOT1"
      },
      "outputs": [],
      "source": [
        "#predicting using knn sample model\n",
        "y_pred_sample = KnnSampleModel.predict(x_test)\n",
        "y_pred_sample"
      ]
    },
    {
      "cell_type": "code",
      "execution_count": null,
      "id": "TJ3qJ55OpM3G",
      "metadata": {
        "id": "TJ3qJ55OpM3G"
      },
      "outputs": [],
      "source": [
        "#Checking testing accuracy of sample model\n",
        "KnnTestAccuracyOnSample = accuracy_score(y_test, y_pred_sample)*100\n",
        "KnnTestAccuracyOnSample"
      ]
    },
    {
      "cell_type": "code",
      "execution_count": null,
      "id": "cyD1loP9zdOf",
      "metadata": {
        "id": "cyD1loP9zdOf"
      },
      "outputs": [],
      "source": [
        "#Here we are changing the values for the sample model\n",
        "#by taking n neighbours is equals to 7 and weights as distance\n",
        "\n",
        "KnnDistanceWeihts = KNeighborsClassifier(n_neighbors=7, weights='distance')\n",
        "KnnDistanceWeihts.fit(x_train, y_train)"
      ]
    },
    {
      "cell_type": "code",
      "execution_count": null,
      "id": "-e-vSV9p0e6J",
      "metadata": {
        "id": "-e-vSV9p0e6J"
      },
      "outputs": [],
      "source": [
        "#predicting using knn sample model\n",
        "y_pred_DistanceWeights = KnnDistanceWeihts.predict(x_test)\n",
        "y_pred_DistanceWeights"
      ]
    },
    {
      "cell_type": "code",
      "execution_count": null,
      "id": "uKiT96Rs02Di",
      "metadata": {
        "id": "uKiT96Rs02Di"
      },
      "outputs": [],
      "source": [
        "#Checking testing accuracy of sample model\n",
        "KnnTestAccuracyDistanceWeights = accuracy_score(y_test, y_pred_DistanceWeights)*100\n",
        "KnnTestAccuracyDistanceWeights"
      ]
    },
    {
      "cell_type": "code",
      "execution_count": null,
      "id": "mEv3NAZA1Bml",
      "metadata": {
        "id": "mEv3NAZA1Bml"
      },
      "outputs": [],
      "source": [
        "#Here we are changing the values for the sample model\n",
        "#by taking n neighbours is equals to 7 and setting metrics to cosine\n",
        "\n",
        "KnnCosineMetric = KNeighborsClassifier(n_neighbors=7, weights='distance', metric='cosine')\n",
        "KnnCosineMetric.fit(x_train, y_train)"
      ]
    },
    {
      "cell_type": "code",
      "execution_count": null,
      "id": "_OIQDp0Y1O5M",
      "metadata": {
        "id": "_OIQDp0Y1O5M"
      },
      "outputs": [],
      "source": [
        "#predicting using knn cosine metric model\n",
        "y_pred_CosineMetric = KnnCosineMetric.predict(x_test)\n",
        "y_pred_CosineMetric"
      ]
    },
    {
      "cell_type": "code",
      "execution_count": null,
      "id": "aIDf3T7x2iaf",
      "metadata": {
        "id": "aIDf3T7x2iaf"
      },
      "outputs": [],
      "source": [
        "#Checking testing accuracy of sample model\n",
        "KnnTestAccuracyCosineMetric = accuracy_score(y_test, y_pred_CosineMetric)*100\n",
        "KnnTestAccuracyCosineMetric"
      ]
    },
    {
      "cell_type": "code",
      "execution_count": null,
      "id": "yiOKazz-24tC",
      "metadata": {
        "id": "yiOKazz-24tC"
      },
      "outputs": [],
      "source": []
    },
    {
      "cell_type": "code",
      "execution_count": null,
      "id": "2fab06f1",
      "metadata": {
        "id": "2fab06f1"
      },
      "outputs": [],
      "source": []
    }
  ],
  "metadata": {
    "accelerator": "GPU",
    "colab": {
      "provenance": [],
      "include_colab_link": true
    },
    "gpuClass": "standard",
    "kernelspec": {
      "display_name": "Python 3 (ipykernel)",
      "language": "python",
      "name": "python3"
    },
    "language_info": {
      "codemirror_mode": {
        "name": "ipython",
        "version": 3
      },
      "file_extension": ".py",
      "mimetype": "text/x-python",
      "name": "python",
      "nbconvert_exporter": "python",
      "pygments_lexer": "ipython3",
      "version": "3.9.12"
    }
  },
  "nbformat": 4,
  "nbformat_minor": 5
}